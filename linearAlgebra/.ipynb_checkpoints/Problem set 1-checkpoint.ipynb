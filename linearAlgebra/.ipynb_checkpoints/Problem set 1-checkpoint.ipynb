{
 "cells": [
  {
   "cell_type": "markdown",
   "id": "81ea52c3",
   "metadata": {},
   "source": [
    "# Problem set 1\n",
    "problem set taken from [MIT](https://nbviewer.org/url/web.mit.edu/18.06/www/Fall18/1806/psets/pset1.ipynb)"
   ]
  },
  {
   "cell_type": "code",
   "execution_count": 2,
   "id": "f7e2a6b7",
   "metadata": {},
   "outputs": [],
   "source": [
    "import numpy as np"
   ]
  },
  {
   "cell_type": "markdown",
   "id": "9f1c41fa",
   "metadata": {},
   "source": [
    "## Problem 1"
   ]
  },
  {
   "cell_type": "markdown",
   "id": "c7b3ba15",
   "metadata": {},
   "source": [
    "### A"
   ]
  },
  {
   "cell_type": "code",
   "execution_count": 3,
   "id": "f98aaaec",
   "metadata": {},
   "outputs": [],
   "source": [
    "A = np.random.rand(3, 4)\n",
    "B = np.random.rand(4, 5)\n",
    "X = np.random.rand(4, 1)\n",
    "R = np.random.rand(1, 3);"
   ]
  },
  {
   "cell_type": "code",
   "execution_count": 15,
   "id": "3acb2711",
   "metadata": {},
   "outputs": [
    {
     "data": {
      "text/plain": [
       "array([[0.07215064, 0.21716356, 0.06748548],\n",
       "       [0.06217028, 0.18712406, 0.05815044],\n",
       "       [0.0440058 , 0.13245145, 0.04116045],\n",
       "       [0.22712724, 0.68362194, 0.2124415 ]])"
      ]
     },
     "execution_count": 15,
     "metadata": {},
     "output_type": "execute_result"
    }
   ],
   "source": [
    "A@B # 1, size = 3 x 5\n",
    "3 * X + X # 2, size = 4 x 1\n",
    "A@X, R@A, # 3, size = 3 x 1, 1 x 4\n",
    "X@R # 4, size = 4 x 3"
   ]
  },
  {
   "cell_type": "markdown",
   "id": "5c0a10c8",
   "metadata": {},
   "source": [
    "### B"
   ]
  },
  {
   "cell_type": "code",
   "execution_count": 21,
   "id": "28d9420e",
   "metadata": {},
   "outputs": [
    {
     "data": {
      "text/plain": [
       "array([[0.73844414]])"
      ]
     },
     "execution_count": 21,
     "metadata": {},
     "output_type": "execute_result"
    }
   ],
   "source": [
    "np.transpose(A) @ A\n",
    "A @ np.transpose(A)\n",
    "X @ np.transpose(X)\n",
    "np.transpose(X) @ X"
   ]
  },
  {
   "cell_type": "markdown",
   "id": "f9f2d49d",
   "metadata": {},
   "source": [
    "## Problem 2"
   ]
  },
  {
   "cell_type": "markdown",
   "id": "3faf7851",
   "metadata": {},
   "source": [
    "### A"
   ]
  },
  {
   "cell_type": "raw",
   "id": "307f89f2",
   "metadata": {},
   "source": [
    "Number of multiplications to compute A @ B, A = m x n, B = n x p\n",
    "[1, 1, 1] X [2, 2]         number of computations = n * m * p\n",
    "[1, 1, 1]   [2, 2]  =      \n",
    "            [2, 2]"
   ]
  },
  {
   "cell_type": "markdown",
   "id": "1b5849a8",
   "metadata": {},
   "source": [
    "### B"
   ]
  },
  {
   "cell_type": "raw",
   "id": "250f1825",
   "metadata": {},
   "source": [
    "Number of multiplications to compute M @ X, M = m x m, X = m x 1\n",
    "number of computations = m x m x 1 = m ^ 2"
   ]
  },
  {
   "cell_type": "markdown",
   "id": "f4dfbea9",
   "metadata": {},
   "source": [
    "### C"
   ]
  },
  {
   "cell_type": "raw",
   "id": "b2af2228",
   "metadata": {},
   "source": [
    "Compare (A @ B) @ X To A @ (B @ X) ; A, B = 1000 x 1000; X = 1000 x 1\n",
    "        1000^3  @ X    A @ 1000^2\n",
    "        1000^2         1000^2\n",
    "        \n",
    "(A@B)@ X = 1000^3 + 1000^2\n",
    "A @ (B @ X) = 2 * 1000^2"
   ]
  },
  {
   "cell_type": "markdown",
   "id": "78bbd1d2",
   "metadata": {},
   "source": [
    "## Problem 3"
   ]
  },
  {
   "cell_type": "raw",
   "id": "60c983d0",
   "metadata": {},
   "source": [
    "2x + 5y + z = 0\n",
    "4x + dy + z = 2\n",
    "     y  - z = 3\n",
    "     \n",
    "2  5  1     2  5        1      2   5   1\n",
    "4  d  1 ->  0  d - 10  -1 ->   0   1  -1\n",
    "0  1 -1     0  1       -1      0   0   0\n",
    "\n",
    "A) d = 10 forces the row exchange\n",
    "B) d = 11 make this system singular"
   ]
  },
  {
   "cell_type": "markdown",
   "id": "d88f71ed",
   "metadata": {},
   "source": [
    "## Problem 4"
   ]
  },
  {
   "cell_type": "raw",
   "id": "88a1a91a",
   "metadata": {},
   "source": [
    "Ax = b\n",
    "Ay = b\n",
    "\n",
    "A(x + y) = 2b\n",
    "A(x + y) * 1/2 = b\n",
    "A( (x+y)*1/2 ) = b"
   ]
  }
 ],
 "metadata": {
  "kernelspec": {
   "display_name": "Python 3 (ipykernel)",
   "language": "python",
   "name": "python3"
  },
  "language_info": {
   "codemirror_mode": {
    "name": "ipython",
    "version": 3
   },
   "file_extension": ".py",
   "mimetype": "text/x-python",
   "name": "python",
   "nbconvert_exporter": "python",
   "pygments_lexer": "ipython3",
   "version": "3.10.4"
  }
 },
 "nbformat": 4,
 "nbformat_minor": 5
}
